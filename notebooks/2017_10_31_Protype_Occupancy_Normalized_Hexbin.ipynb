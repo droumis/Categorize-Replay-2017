{
 "cells": [
  {
   "cell_type": "code",
   "execution_count": 3,
   "metadata": {
    "collapsed": true
   },
   "outputs": [],
   "source": [
    "%matplotlib inline\n",
    "%reload_ext autoreload\n",
    "%autoreload 2\n",
    "%qtconsole"
   ]
  },
  {
   "cell_type": "code",
   "execution_count": 4,
   "metadata": {
    "collapsed": true
   },
   "outputs": [],
   "source": [
    "import numpy as np\n",
    "import matplotlib.pyplot as plt"
   ]
  },
  {
   "cell_type": "code",
   "execution_count": 73,
   "metadata": {},
   "outputs": [
    {
     "data": {
      "text/plain": [
       "array([ 2.,  0.,  0.,  0.,  0.,  0.,  0.,  0.,  0.,  0.,  0.,  0.,  0.,\n",
       "        0.,  0.,  2.,  0.,  0.,  0.,  0.,  1.,  0.,  0.,  0.,  0.])"
      ]
     },
     "execution_count": 73,
     "metadata": {},
     "output_type": "execute_result"
    },
    {
     "data": {
      "image/png": "[encoded data removed]",
      "text/plain": [
       "<matplotlib.figure.Figure at 0x1145616d8>"
      ]
     },
     "metadata": {},
     "output_type": "display_data"
    }
   ],
   "source": [
    "x = np.array([3, 3, 9, 9, 6])\n",
    "y = np.array([3, 3, 9, 9, 6])\n",
    "s_x = np.array([3, 6])\n",
    "s_y = np.array([3, 6])\n",
    "grid_size = (3, 3)\n",
    "\n",
    "all_positions_hb = plt.hexbin(x, y, cmap=plt.cm.get_cmap('Reds', 5),\n",
    "                              gridsize=grid_size, vmin=0, vmax=2);\n",
    "plt.colorbar()\n",
    "\n",
    "norm = all_positions_hb.get_array()\n",
    "norm"
   ]
  },
  {
   "cell_type": "code",
   "execution_count": 74,
   "metadata": {},
   "outputs": [
    {
     "data": {
      "image/png": "[encoded data removed]",
      "text/plain": [
       "<matplotlib.figure.Figure at 0x1142fea90>"
      ]
     },
     "metadata": {},
     "output_type": "display_data"
    }
   ],
   "source": [
    "hb = plt.hexbin(s_x, s_y,\n",
    "           cmap=plt.cm.get_cmap('Reds', 5), gridsize=grid_size, vmin=0, vmax=1)\n",
    "count = hb.get_array()\n",
    "centers = hb.get_offsets()"
   ]
  },
  {
   "cell_type": "code",
   "execution_count": 94,
   "metadata": {},
   "outputs": [
    {
     "name": "stderr",
     "output_type": "stream",
     "text": [
      "/Users/edeno/miniconda3/envs/Categorize_Replay_2017/lib/python3.6/site-packages/ipykernel/__main__.py:1: RuntimeWarning: invalid value encountered in true_divide\n",
      "  if __name__ == '__main__':\n"
     ]
    },
    {
     "data": {
      "text/plain": [
       "array([ 0.5,  0.5,  0. ])"
      ]
     },
     "execution_count": 94,
     "metadata": {},
     "output_type": "execute_result"
    },
    {
     "data": {
      "image/png": "[encoded data removed]",
      "text/plain": [
       "<matplotlib.figure.Figure at 0x1136da908>"
      ]
     },
     "metadata": {},
     "output_type": "display_data"
    }
   ],
   "source": [
    "blah = plt.hexbin(centers[:, 0], centers[:, 1], C=count/norm,\n",
    "           cmap=plt.cm.get_cmap('Reds', 5), gridsize=grid_size, vmin=0, vmax=1)\n",
    "plt.colorbar()\n",
    "blah.get_array()"
   ]
  },
  {
   "cell_type": "code",
   "execution_count": 131,
   "metadata": {},
   "outputs": [],
   "source": [
    "def occupancy_normalized_hexbin(x, y, all_x, all_y, ax=None,\n",
    "                                gridsize=(3, 3), **kwargs):\n",
    "    '''Bins (x, y) into hexagonal grid and normalizes the\n",
    "    count by the binned count of (all_x, all_y).\n",
    "    \n",
    "    Useful when measuring the frequency of events over time \n",
    "    and space when the time spent in each bin is not equal.\n",
    "    \n",
    "    Parameters\n",
    "    ----------\n",
    "    x : numpy.ndarray\n",
    "        Grid position at event\n",
    "    y : numpy.ndarray\n",
    "        Grid position at event\n",
    "    all_x : numpy.ndarray\n",
    "        Grid position over all time. For normalization.\n",
    "    all_y : numpy.ndarray\n",
    "        Grid position over all time. For normalization.\n",
    "    gridsize : array-like, shape (2,), optional\n",
    "        Size of the grid.\n",
    "    **kwargs : hexbin keyword arguments, optional\n",
    "    \n",
    "    Returns\n",
    "    -------\n",
    "    axis_handle : a `~matplotlib.collections.PolyCollection` instance\n",
    "    \n",
    "    '''\n",
    "    if ax is None:\n",
    "        ax = plt.gca()\n",
    "    occupancy = ax.hexbin(all_x, all_y, gridsize=gridsize)\n",
    "    plt.cla()\n",
    "    occupancy_count = occupancy.get_array()\n",
    "    hexbin_centers = occupancy.get_offsets()\n",
    "    event_count = ax.hexbin(x, y, gridsize=gridsize).get_array()\n",
    "    plt.cla()\n",
    "    normalized_count = event_count / occupancy_count\n",
    "    return ax.hexbin(centers[:, 0], centers[:, 1],\n",
    "                     C=normalized_count, gridsize=gridsize, **kwargs)"
   ]
  },
  {
   "cell_type": "code",
   "execution_count": 130,
   "metadata": {},
   "outputs": [
    {
     "name": "stderr",
     "output_type": "stream",
     "text": [
      "/Users/edeno/miniconda3/envs/Categorize_Replay_2017/lib/python3.6/site-packages/ipykernel/__main__.py:36: RuntimeWarning: invalid value encountered in true_divide\n"
     ]
    },
    {
     "data": {
      "image/png": "[encoded data removed]",
      "text/plain": [
       "<matplotlib.figure.Figure at 0x115c52fd0>"
      ]
     },
     "metadata": {},
     "output_type": "display_data"
    }
   ],
   "source": [
    "fig, ax = plt.subplots()\n",
    "ax = occupancy_normalized_hexbin(s_x, s_y, x, y, gridsize=(3, 3),\n",
    "                                 cmap=plt.cm.get_cmap('Reds', 5), vmin=0, vmax=1, ax=ax)\n",
    "ax.get_array()\n",
    "fig.colorbar(ax);"
   ]
  },
  {
   "cell_type": "code",
   "execution_count": null,
   "metadata": {
    "collapsed": true
   },
   "outputs": [],
   "source": []
  }
 ],
 "metadata": {
  "kernelspec": {
   "display_name": "Python [conda env:Categorize_Replay_2017]",
   "language": "python",
   "name": "conda-env-Categorize_Replay_2017-py"
  },
  "language_info": {
   "codemirror_mode": {
    "name": "ipython",
    "version": 3
   },
   "file_extension": ".py",
   "mimetype": "text/x-python",
   "name": "python",
   "nbconvert_exporter": "python",
   "pygments_lexer": "ipython3",
   "version": "3.6.3"
  }
 },
 "nbformat": 4,
 "nbformat_minor": 2
}
